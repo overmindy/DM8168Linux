{
 "cells": [
  {
   "cell_type": "markdown",
   "metadata": {},
   "source": [
    "- 以下只介绍不同部分\n",
    "- 环绕音效无非就是增加工作量，需要对音频进行分段，用不同方位的冲激串进行卷积，最后相加，达到环绕的效果"
   ]
  },
  {
   "cell_type": "code",
   "execution_count": null,
   "metadata": {},
   "outputs": [],
   "source": [
    "!pip install numpy scipy matplotlib"
   ]
  },
  {
   "cell_type": "code",
   "execution_count": 2,
   "metadata": {},
   "outputs": [],
   "source": [
    "import numpy as np\n",
    "import wave\n",
    "import scipy.io.wavfile as wav\n",
    "from scipy.signal import resample, convolve\n"
   ]
  },
  {
   "cell_type": "code",
   "execution_count": 3,
   "metadata": {},
   "outputs": [],
   "source": [
    "\n",
    "# 读取wav文件\n",
    "def read_wav(filename):\n",
    "    Fs, data = wav.read(filename)\n",
    "    return Fs, data\n"
   ]
  },
  {
   "cell_type": "code",
   "execution_count": 4,
   "metadata": {},
   "outputs": [],
   "source": [
    "\n",
    "# 写入wav文件\n",
    "def write_wav(filename, Fs, data):\n",
    "    wav.write(filename, Fs, data.astype(np.int16))\n"
   ]
  },
  {
   "cell_type": "code",
   "execution_count": 5,
   "metadata": {},
   "outputs": [],
   "source": [
    "\n",
    "# 重采样函数\n",
    "def resample_audio(data, original_fs, new_fs):\n",
    "    num_samples = int(len(data) * float(new_fs) / original_fs)\n",
    "    return resample(data, num_samples)\n"
   ]
  },
  {
   "cell_type": "code",
   "execution_count": 6,
   "metadata": {},
   "outputs": [],
   "source": [
    "\n",
    "# 处理单声道音频进行卷积\n",
    "def process_audio(L,R, hrir_l, hrir_r, Fs, new_fs):\n",
    "    # 重采样音频\n",
    "    resampled_audio_L = resample_audio(L,Fs,new_fs)\n",
    "    resampled_audio_R = resample_audio(R,Fs,new_fs)\n",
    "    # 分别与左右HRIR卷积\n",
    "    out_l = convolve(resampled_audio_L, hrir_l)\n",
    "    out_r = convolve(resampled_audio_R, hrir_r)\n",
    "    \n",
    "    # 合成立体声\n",
    "    out_stereo = np.column_stack((out_l, out_r))\n",
    "    return out_stereo\n"
   ]
  },
  {
   "cell_type": "markdown",
   "metadata": {},
   "source": [
    "- 读入多个方位的冲激串"
   ]
  },
  {
   "cell_type": "code",
   "execution_count": null,
   "metadata": {},
   "outputs": [],
   "source": [
    "change=[[0,'000'],[10,'040'],[20,'080'],[30,'120'],[40,'161'],[50,'200'],[60,'240'],[70,'285'],[80,'300'],[90,'000']]\n",
    "\n",
    "L_path=[f'full\\\\elev{i[0]}\\\\L{i[0]}e{i[1]}a.wav' for i in change]\n",
    "R_path=[f'full\\\\elev{i[0]}\\\\R{i[0]}e{i[1]}a.wav' for i in change]\n",
    "# 读取HRIR数据\n",
    "HL=[]\n",
    "HR=[]\n",
    "for i in range(10):\n",
    "    Fs_hrir, hrir_l = read_wav(L_path[i])\n",
    "    _, hrir_r = read_wav(R_path[i])\n",
    "    hrir_l,hrir_r=hrir_l*0.00005,hrir_r*0.00005\n",
    "    HL.append(hrir_l)\n",
    "    HR.append(hrir_r)\n",
    "print(max(hrir_l),max(hrir_r))"
   ]
  },
  {
   "cell_type": "code",
   "execution_count": null,
   "metadata": {},
   "outputs": [],
   "source": [
    "\n",
    "# 读取音频文件\n",
    "Fs, audio_data = read_wav('test1.wav')\n",
    "print(Fs)\n",
    "if len(audio_data[0])==2:\n",
    "    audio_data_LL=[data[0] for data in audio_data]\n",
    "    audio_data_RR=[data[1] for data in audio_data]\n",
    "    print(\"双声道\")\n",
    "else:\n",
    "    print('单声道')\n",
    "print(max(audio_data_LL),max(audio_data_RR))"
   ]
  },
  {
   "cell_type": "markdown",
   "metadata": {},
   "source": [
    "- 分段进行音频处理，最后相加"
   ]
  },
  {
   "cell_type": "code",
   "execution_count": 9,
   "metadata": {},
   "outputs": [],
   "source": [
    "# 设置目标采样率\n",
    "new_fs = 48000\n",
    "out=None\n",
    "num=len(audio_data_LL)//10\n",
    "# 处理音频，进行卷积并生成立体声\n",
    "for i in range(10):\n",
    "    newl=audio_data_LL[i*num:(i+1)*num]\n",
    "    newr=audio_data_RR[i*num:(i+1)*num]\n",
    "    hiri_l=HL[i]\n",
    "    hiri_r=HR[i]\n",
    "    processed_audio = process_audio(newl,newr,hiri_l, hiri_r, Fs, new_fs)\n",
    "    if i!=0:\n",
    "        out=np.append(out,processed_audio,axis=0)\n",
    "    else:\n",
    "        out = processed_audio\n",
    "# 将处理后的音频写入文件\n",
    "write_wav('processed_audio.wav', new_fs, out)\n"
   ]
  }
 ],
 "metadata": {
  "kernelspec": {
   "display_name": "Python 3",
   "language": "python",
   "name": "python3"
  },
  "language_info": {
   "codemirror_mode": {
    "name": "ipython",
    "version": 3
   },
   "file_extension": ".py",
   "mimetype": "text/x-python",
   "name": "python",
   "nbconvert_exporter": "python",
   "pygments_lexer": "ipython3",
   "version": "3.12.6"
  }
 },
 "nbformat": 4,
 "nbformat_minor": 2
}
