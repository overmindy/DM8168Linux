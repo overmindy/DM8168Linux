{
 "cells": [
  {
   "cell_type": "code",
   "execution_count": 1,
   "metadata": {},
   "outputs": [
    {
     "name": "stdout",
     "output_type": "stream",
     "text": [
      "Defaulting to user installation because normal site-packages is not writeable\n",
      "Requirement already satisfied: numpy in c:\\users\\asus\\appdata\\local\\packages\\pythonsoftwarefoundation.python.3.12_qbz5n2kfra8p0\\localcache\\local-packages\\python312\\site-packages (2.1.1)\n",
      "Requirement already satisfied: scipy in c:\\users\\asus\\appdata\\local\\packages\\pythonsoftwarefoundation.python.3.12_qbz5n2kfra8p0\\localcache\\local-packages\\python312\\site-packages (1.14.1)\n",
      "Requirement already satisfied: matplotlib in c:\\users\\asus\\appdata\\local\\packages\\pythonsoftwarefoundation.python.3.12_qbz5n2kfra8p0\\localcache\\local-packages\\python312\\site-packages (3.9.2)\n",
      "Requirement already satisfied: contourpy>=1.0.1 in c:\\users\\asus\\appdata\\local\\packages\\pythonsoftwarefoundation.python.3.12_qbz5n2kfra8p0\\localcache\\local-packages\\python312\\site-packages (from matplotlib) (1.3.0)\n",
      "Requirement already satisfied: cycler>=0.10 in c:\\users\\asus\\appdata\\local\\packages\\pythonsoftwarefoundation.python.3.12_qbz5n2kfra8p0\\localcache\\local-packages\\python312\\site-packages (from matplotlib) (0.12.1)\n",
      "Requirement already satisfied: fonttools>=4.22.0 in c:\\users\\asus\\appdata\\local\\packages\\pythonsoftwarefoundation.python.3.12_qbz5n2kfra8p0\\localcache\\local-packages\\python312\\site-packages (from matplotlib) (4.53.1)\n",
      "Requirement already satisfied: kiwisolver>=1.3.1 in c:\\users\\asus\\appdata\\local\\packages\\pythonsoftwarefoundation.python.3.12_qbz5n2kfra8p0\\localcache\\local-packages\\python312\\site-packages (from matplotlib) (1.4.7)\n",
      "Requirement already satisfied: packaging>=20.0 in c:\\users\\asus\\appdata\\local\\packages\\pythonsoftwarefoundation.python.3.12_qbz5n2kfra8p0\\localcache\\local-packages\\python312\\site-packages (from matplotlib) (24.1)\n",
      "Requirement already satisfied: pillow>=8 in c:\\users\\asus\\appdata\\local\\packages\\pythonsoftwarefoundation.python.3.12_qbz5n2kfra8p0\\localcache\\local-packages\\python312\\site-packages (from matplotlib) (10.4.0)\n",
      "Requirement already satisfied: pyparsing>=2.3.1 in c:\\users\\asus\\appdata\\local\\packages\\pythonsoftwarefoundation.python.3.12_qbz5n2kfra8p0\\localcache\\local-packages\\python312\\site-packages (from matplotlib) (3.1.4)\n",
      "Requirement already satisfied: python-dateutil>=2.7 in c:\\users\\asus\\appdata\\local\\packages\\pythonsoftwarefoundation.python.3.12_qbz5n2kfra8p0\\localcache\\local-packages\\python312\\site-packages (from matplotlib) (2.9.0.post0)\n",
      "Requirement already satisfied: six>=1.5 in c:\\users\\asus\\appdata\\local\\packages\\pythonsoftwarefoundation.python.3.12_qbz5n2kfra8p0\\localcache\\local-packages\\python312\\site-packages (from python-dateutil>=2.7->matplotlib) (1.16.0)\n"
     ]
    }
   ],
   "source": [
    "!pip install numpy scipy matplotlib"
   ]
  },
  {
   "cell_type": "code",
   "execution_count": 2,
   "metadata": {},
   "outputs": [],
   "source": [
    "import numpy as np\n",
    "import wave\n",
    "import scipy.io.wavfile as wav\n",
    "from scipy.signal import resample, convolve\n",
    "from itertools import zip_longest\n"
   ]
  },
  {
   "cell_type": "code",
   "execution_count": 3,
   "metadata": {},
   "outputs": [],
   "source": [
    "\n",
    "# 读取wav文件\n",
    "def read_wav(filename):\n",
    "    Fs, data = wav.read(filename)\n",
    "    return Fs, data\n"
   ]
  },
  {
   "cell_type": "code",
   "execution_count": 4,
   "metadata": {},
   "outputs": [],
   "source": [
    "\n",
    "# 写入wav文件\n",
    "def write_wav(filename, Fs, data):\n",
    "    wav.write(filename, Fs, data.astype(np.int16))\n"
   ]
  },
  {
   "cell_type": "code",
   "execution_count": 5,
   "metadata": {},
   "outputs": [],
   "source": [
    "\n",
    "# 重采样函数\n",
    "def resample_audio(data, original_fs, new_fs):\n",
    "    num_samples = int(len(data) * float(new_fs) / original_fs)\n",
    "    return resample(data, num_samples)\n"
   ]
  },
  {
   "cell_type": "markdown",
   "metadata": {},
   "source": [
    "### 修改处理函数，改用重叠相加法"
   ]
  },
  {
   "cell_type": "markdown",
   "metadata": {},
   "source": [
    "- 我们每次会对数据进行分多个小段处理，也就是卷积\n",
    "- 由于卷积会造成原数据端变长，我们需要将变长的小段存下来，加到下一次卷积结果的前端即可"
   ]
  },
  {
   "cell_type": "code",
   "execution_count": 6,
   "metadata": {},
   "outputs": [],
   "source": [
    "\n",
    "# 处理单声道音频进行卷积\n",
    "def process_audio(L,R, hrir_l, hrir_r, Fs, new_fs):\n",
    "    # 重采样音频\n",
    "    resampled_audio_L = resample_audio(L,Fs,new_fs)\n",
    "    resampled_audio_R = resample_audio(R,Fs,new_fs)\n",
    "    # 分别与左右HRIR卷积\n",
    "    #out_l = convolve(resampled_audio_L, hrir_l)\n",
    "    #out_r = convolve(resampled_audio_R, hrir_r)\n",
    "    \n",
    "    #设N=512为冲激串长度，M=256为分段长度，LenL=N+M-1=767结果长度\n",
    "    N = 512\n",
    "    M = 512\n",
    "    LenL=N+M-1\n",
    "    out_l=[]\n",
    "    out_r=[]\n",
    "    overlap_add_l=[0]*(LenL-M)\n",
    "    overlap_add_r=[0]*(LenL-M)\n",
    "    num_split=len(resampled_audio_L)//M\n",
    "    for i in range(num_split):\n",
    "        l,r=i*M,(i+1)*M\n",
    "        res_l=convolve(resampled_audio_L[l:r],hrir_l)\n",
    "        res_r=convolve(resampled_audio_R[l:r],hrir_r)\n",
    "        out_l+=[a+b for a,b in zip_longest(res_l[:M],overlap_add_l,fillvalue=0)]\n",
    "        out_r+=[a+b for a,b in zip_longest(res_r[:M],overlap_add_r,fillvalue=0)]\n",
    "        overlap_add_l=res_l[M:-1]\n",
    "        overlap_add_r=res_r[M:-1]\n",
    "\n",
    "    # 合成立体声\n",
    "    print(out_l[:10])\n",
    "    out_stereo = np.column_stack((out_l, out_r))\n",
    "    return out_stereo\n"
   ]
  },
  {
   "cell_type": "code",
   "execution_count": 8,
   "metadata": {},
   "outputs": [
    {
     "name": "stdout",
     "output_type": "stream",
     "text": [
      "512\n",
      "0.6887500000000001 0.29405000000000003\n"
     ]
    }
   ],
   "source": [
    "L_path='full\\\\elev60\\\\L60e250a.wav'\n",
    "R_path='full\\\\elev60\\\\R60e250a.wav'\n",
    "# 读取HRIR数据\n",
    "Fs_hrir, hrir_l = read_wav(L_path)\n",
    "_, hrir_r = read_wav(R_path)\n",
    "print(len(hrir_l))\n",
    "hrir_l,hrir_r=hrir_l*0.00005,hrir_r*0.00005\n",
    "print(max(hrir_l),max(hrir_r))\n"
   ]
  },
  {
   "cell_type": "code",
   "execution_count": 9,
   "metadata": {},
   "outputs": [
    {
     "name": "stdout",
     "output_type": "stream",
     "text": [
      "双声道\n",
      "15951 15951\n"
     ]
    }
   ],
   "source": [
    "\n",
    "# 读取音频文件\n",
    "Fs, audio_data = read_wav('test1.wav')\n",
    "if len(audio_data[0])==2:\n",
    "    audio_data_LL=[data[0] for data in audio_data]\n",
    "    audio_data_RR=[data[1] for data in audio_data]\n",
    "    print(\"双声道\")\n",
    "else:\n",
    "    print('单声道')\n",
    "print(max(audio_data_LL),max(audio_data_RR))"
   ]
  },
  {
   "cell_type": "code",
   "execution_count": 10,
   "metadata": {},
   "outputs": [
    {
     "name": "stdout",
     "output_type": "stream",
     "text": [
      "[np.float64(-6.5431273508843756e-18), np.float64(-3.191592118931379e-17), np.float64(-6.470425935874549e-17), np.float64(-6.521316926381427e-17), np.float64(-1.2722747626719618e-17), np.float64(6.048757728817557e-17), np.float64(1.2933581730248117e-16), np.float64(1.4162235643914184e-16), np.float64(8.367932867631017e-17), np.float64(-1.7084832527309203e-17)]\n"
     ]
    }
   ],
   "source": [
    "# 设置目标采样率\n",
    "new_fs = 48000\n",
    "\n",
    "# 处理音频，进行卷积并生成立体声\n",
    "processed_audio = process_audio(audio_data_LL,audio_data_RR, hrir_l, hrir_r, Fs, new_fs)\n",
    "\n",
    "# 将处理后的音频写入文件\n",
    "write_wav('processed_audio.wav', new_fs, processed_audio)\n"
   ]
  }
 ],
 "metadata": {
  "kernelspec": {
   "display_name": "Python 3",
   "language": "python",
   "name": "python3"
  },
  "language_info": {
   "codemirror_mode": {
    "name": "ipython",
    "version": 3
   },
   "file_extension": ".py",
   "mimetype": "text/x-python",
   "name": "python",
   "nbconvert_exporter": "python",
   "pygments_lexer": "ipython3",
   "version": "3.12.6"
  }
 },
 "nbformat": 4,
 "nbformat_minor": 2
}
